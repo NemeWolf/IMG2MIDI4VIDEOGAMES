{
 "cells": [
  {
   "cell_type": "code",
   "execution_count": null,
   "id": "0ef6420c",
   "metadata": {},
   "outputs": [],
   "source": [
    "import music21\n",
    "import pandas as pd\n",
    "import re\n",
    "import ast\n",
    "import os\n",
    "from tqdm import tqdm\n",
    "import numpy as np\n",
    "import json\n",
    "import glob"
   ]
  },
  {
   "cell_type": "markdown",
   "id": "9f862589",
   "metadata": {},
   "source": [
    "## Lectura dataset"
   ]
  },
  {
   "cell_type": "code",
   "execution_count": 12,
   "id": "5b6b582f",
   "metadata": {},
   "outputs": [],
   "source": [
    "# 01 leer Chordomicon dataset parquet\n",
    "chordonomicon_dataset_path = '/home/neme/workspace/Data/MIDI/preprocced/Chordomicon/batch/dataset_01_1.parquet'\n",
    "df_chordonomicon = pd.read_parquet(chordonomicon_dataset_path)"
   ]
  },
  {
   "cell_type": "code",
   "execution_count": 13,
   "id": "478589f1",
   "metadata": {},
   "outputs": [
    {
     "data": {
      "text/plain": [
       "Index(['chord_symbols', 'piano_rolls', 'sequence_length', 'piano_roll_size',\n",
       "       'original_id', 'artist_id', 'song_id', 'key_tonic', 'key_mode',\n",
       "       'key_correlation', 'main_genre', 'genres', 'rock_genre', 'release_date',\n",
       "       'decade'],\n",
       "      dtype='object')"
      ]
     },
     "execution_count": 13,
     "metadata": {},
     "output_type": "execute_result"
    }
   ],
   "source": [
    "df_chordonomicon.keys()"
   ]
  },
  {
   "cell_type": "code",
   "execution_count": 14,
   "id": "9b1d7880",
   "metadata": {},
   "outputs": [
    {
     "data": {
      "text/plain": [
       "(1344,)"
      ]
     },
     "execution_count": 14,
     "metadata": {},
     "output_type": "execute_result"
    }
   ],
   "source": [
    "df_chordonomicon['piano_rolls'][0].shape"
   ]
  },
  {
   "cell_type": "code",
   "execution_count": 15,
   "id": "48a62013",
   "metadata": {},
   "outputs": [
    {
     "data": {
      "text/plain": [
       "'[\"C\", \"F\", \"C\", \"E7\", \"Am\", \"C\", \"F\", \"C\", \"G7\", \"C\", \"F\", \"C\", \"E7\", \"Am\", \"C\", \"F\"]'"
      ]
     },
     "execution_count": 15,
     "metadata": {},
     "output_type": "execute_result"
    }
   ],
   "source": [
    "df_chordonomicon['chord_symbols'][0]"
   ]
  },
  {
   "cell_type": "code",
   "execution_count": 16,
   "id": "bab8b17e",
   "metadata": {},
   "outputs": [
    {
     "name": "stderr",
     "output_type": "stream",
     "text": [
      "Reconstruyendo datos: 100%|██████████| 5000/5000 [00:00<00:00, 7485.06it/s]\n"
     ]
    }
   ],
   "source": [
    "\n",
    "for i, row in tqdm(df_chordonomicon.iterrows(), total=len(df_chordonomicon), desc=\"Reconstruyendo datos\"):\n",
    "    # Reconstruir piano roll\n",
    "    piano_roll_flat = row['piano_rolls']\n",
    "    piano_rolls = np.array(piano_roll_flat).reshape(\n",
    "        row['sequence_length'], row['piano_roll_size']\n",
    "    )\n",
    "    # Reconstruir chord symbols\n",
    "    chord_symbols = json.loads(row['chord_symbols'])\n",
    "    \n",
    "    # Remplazar en df_chordonomicon\n",
    "    df_chordonomicon.at[i, 'piano_rolls'] = piano_rolls\n",
    "    df_chordonomicon.at[i, 'chord_symbols'] = chord_symbols\n",
    "    \n",
    "    "
   ]
  },
  {
   "cell_type": "code",
   "execution_count": 26,
   "id": "5d610e13",
   "metadata": {},
   "outputs": [],
   "source": [
    "# 02 leer Popular-hook dataset parquet\n",
    "popular_hook_dataset_path = '/home/neme/workspace/Data/MIDI/preprocced/Popular-hook/batch/dataset_01_53.parquet'\n",
    "\n",
    "popular_hook_data = pd.read_parquet(popular_hook_dataset_path)"
   ]
  },
  {
   "cell_type": "code",
   "execution_count": 27,
   "id": "7b3e6d97",
   "metadata": {},
   "outputs": [
    {
     "data": {
      "text/plain": [
       "Index(['piano_roll', 'chord_symbols', 'sequence_length', 'piano_roll_size',\n",
       "       'idx', 'artist', 'song', 'section', 'tonality', 'genres', 'path',\n",
       "       'midi_emotion_predected'],\n",
       "      dtype='object')"
      ]
     },
     "execution_count": 27,
     "metadata": {},
     "output_type": "execute_result"
    }
   ],
   "source": [
    "popular_hook_data.keys()"
   ]
  },
  {
   "cell_type": "code",
   "execution_count": 28,
   "id": "bb7ee72d",
   "metadata": {},
   "outputs": [
    {
     "data": {
      "text/plain": [
       "'a-teens'"
      ]
     },
     "execution_count": 28,
     "metadata": {},
     "output_type": "execute_result"
    }
   ],
   "source": [
    "popular_hook_data['artist'][0] \n"
   ]
  },
  {
   "cell_type": "code",
   "execution_count": 29,
   "id": "d2f1bffc",
   "metadata": {},
   "outputs": [
    {
     "data": {
      "text/plain": [
       "'upside-down'"
      ]
     },
     "execution_count": 29,
     "metadata": {},
     "output_type": "execute_result"
    }
   ],
   "source": [
    "popular_hook_data['song'][0] "
   ]
  },
  {
   "cell_type": "code",
   "execution_count": 32,
   "id": "507f6c0f",
   "metadata": {},
   "outputs": [
    {
     "data": {
      "text/plain": [
       "'verse-and-pre-chorus'"
      ]
     },
     "execution_count": 32,
     "metadata": {},
     "output_type": "execute_result"
    }
   ],
   "source": [
    "popular_hook_data['section'][0] "
   ]
  },
  {
   "cell_type": "code",
   "execution_count": 30,
   "id": "35f98832",
   "metadata": {},
   "outputs": [
    {
     "data": {
      "text/plain": [
       "'A Major'"
      ]
     },
     "execution_count": 30,
     "metadata": {},
     "output_type": "execute_result"
    }
   ],
   "source": [
    "popular_hook_data['tonality'][0] "
   ]
  },
  {
   "cell_type": "code",
   "execution_count": 31,
   "id": "c6de87a8",
   "metadata": {},
   "outputs": [
    {
     "name": "stdout",
     "output_type": "stream",
     "text": [
      "[\"A\", \"D\", \"F#m\", \"E\", \"Bm7\", \"D\", \"E\", \"D\", \"C#m\", \"F#sus\", [\"F#\", \"B-\", \"C#\"], \"Bm\", \"Esus\", \"E7\", \"C#m\", \"F#sus\"]\n",
      "[\"F#m\", \"E\", \"Bm7\", \"D\", \"E\", \"D\", \"C#m\", \"F#sus\", [\"F#\", \"B-\", \"C#\"], \"Bm\", \"Esus\", \"E7\", \"C#m\", \"F#sus\", [\"F#\", \"B-\", \"C#\"], \"Bm\"]\n",
      "[\"F\", \"F\", \"F\", \"Fmaj7\", \"Fmaj7\", \"Fmaj7\", \"C/F\", \"C/F\", \"Fmaj7\", \"F\", \"F\", \"F\", \"Fmaj7\", \"Fmaj7\", \"Fmaj7\", \"C/F\"]\n",
      "[\"F\", \"Fmaj7\", \"Fmaj7\", \"Fmaj7\", \"C/F\", \"C/F\", \"Fmaj7\", \"F\", \"F\", \"F\", \"Fmaj7\", \"Fmaj7\", \"Fmaj7\", \"C/F\", \"C/F\", \"Fmaj7\"]\n",
      "[\"Fmaj7\", \"Fmaj7\", \"C/F\", \"C/F\", \"Fmaj7\", \"F\", \"F\", \"F\", \"Fmaj7\", \"Fmaj7\", \"Fmaj7\", \"C/F\", \"C/F\", \"Fmaj7\", \"Fmaj7\", \"Fmaj7\"]\n",
      "[\"C/F\", \"C/F\", \"Fmaj7\", \"F\", \"F\", \"F\", \"Fmaj7\", \"Fmaj7\", \"Fmaj7\", \"C/F\", \"C/F\", \"Fmaj7\", \"Fmaj7\", \"Fmaj7\", \"Fmaj7\", \"FM9\"]\n",
      "[\"Fmaj7\", \"F\", \"F\", \"F\", \"Fmaj7\", \"Fmaj7\", \"Fmaj7\", \"C/F\", \"C/F\", \"Fmaj7\", \"Fmaj7\", \"Fmaj7\", \"Fmaj7\", \"FM9\", \"FM9\", \"FM9\"]\n",
      "[\"F\", \"F\", \"Fmaj7\", \"Fmaj7\", \"Fmaj7\", \"C/F\", \"C/F\", \"Fmaj7\", \"Fmaj7\", \"Fmaj7\", \"Fmaj7\", \"FM9\", \"FM9\", \"FM9\", \"FM9\", \"Fmaj7\"]\n",
      "[\"Fmaj7\", \"Fmaj7\", \"Fmaj7\", \"C/F\", \"C/F\", \"Fmaj7\", \"Fmaj7\", \"Fmaj7\", \"Fmaj7\", \"FM9\", \"FM9\", \"FM9\", \"FM9\", \"Fmaj7\", \"Fmaj7\", \"Fmaj7\"]\n",
      "[\"Fmaj7\", \"C/F\", \"C/F\", \"Fmaj7\", \"Fmaj7\", \"Fmaj7\", \"Fmaj7\", \"FM9\", \"FM9\", \"FM9\", \"FM9\", \"Fmaj7\", \"Fmaj7\", \"Fmaj7\", \"Fmaj7\", \"FM9\"]\n"
     ]
    }
   ],
   "source": [
    "for i in popular_hook_data['chord_symbols']:\n",
    "    print(i)"
   ]
  },
  {
   "cell_type": "markdown",
   "id": "84f86ae8",
   "metadata": {},
   "source": [
    "## Concatenar Batches"
   ]
  },
  {
   "cell_type": "code",
   "execution_count": 2,
   "id": "26b45563",
   "metadata": {},
   "outputs": [],
   "source": [
    "\n",
    "def concatenate_parquet_batches(batch_dir: str, output_file: str, chunk_size: int = 10):\n",
    "    \"\"\"\n",
    "    Concatena batches en formato Parquet de manera eficiente en memoria.\n",
    "    \"\"\"\n",
    "    # Encontrar todos los archivos parquet\n",
    "    batch_files = sorted(glob.glob(os.path.join(batch_dir, \"dataset_01_*.parquet\")))\n",
    "    print(f\"Encontrados {len(batch_files)} archivos batch\")\n",
    "    \n",
    "    if not batch_files:\n",
    "        print(\"No se encontraron archivos batch\")\n",
    "        return\n",
    "    \n",
    "    # Procesar en chunks para evitar problemas de memoria\n",
    "    chunk_files = []\n",
    "    \n",
    "    for i in range(0, len(batch_files), chunk_size):\n",
    "        chunk_batch_files = batch_files[i:i + chunk_size]\n",
    "        \n",
    "        print(i+chunk_size, len(batch_files))\n",
    "        \n",
    "        print(f\"Procesando chunk {i//chunk_size + 1}/{(len(batch_files)-1)//chunk_size + 1}\")\n",
    "        \n",
    "        # Leer y concatenar archivos del chunk\n",
    "        chunk_dfs = []\n",
    "        for file in tqdm(chunk_batch_files, desc=\"Cargando archivos\"):\n",
    "            df = pd.read_parquet(file)\n",
    "            chunk_dfs.append(df)\n",
    "        \n",
    "        # Concatenar chunk\n",
    "        chunk_df = pd.concat(chunk_dfs, ignore_index=True)\n",
    "        \n",
    "        # Guardar chunk intermedio\n",
    "        chunk_output = f\"{output_file}_chunk_{i//chunk_size}.parquet\"\n",
    "        chunk_df.to_parquet(chunk_output, compression='snappy')\n",
    "        chunk_files.append(chunk_output)\n",
    "        \n",
    "        # Limpiar memoria\n",
    "        del chunk_dfs, chunk_df            \n",
    "            \n",
    "        \n",
    "    # Concatenar chunks finales\n",
    "    print(\"Concatenando chunks finales...\")\n",
    "    final_dfs = []\n",
    "    for chunk_file in tqdm(chunk_files, desc=\"Cargando chunks\"):\n",
    "        df = pd.read_parquet(chunk_file)\n",
    "        final_dfs.append(df)\n",
    "    \n",
    "    # Concatenación final\n",
    "    print(\"Realizando concatenación final...\")\n",
    "    final_df = pd.concat(final_dfs, ignore_index=True)\n",
    "    \n",
    "    # Guardar resultado final\n",
    "    final_df.to_parquet(f\"{output_file}.parquet\", compression='snappy')\n",
    "    print(f\"Dataset final guardado: {output_file}.parquet\")\n",
    "    print(f\"Forma final: {final_df.shape}\")\n",
    "    \n",
    "    # Limpiar archivos temporales\n",
    "    for chunk_file in chunk_files:\n",
    "        os.remove(chunk_file)\n",
    "    \n",
    "    return final_df"
   ]
  },
  {
   "cell_type": "code",
   "execution_count": null,
   "id": "9b056d6a",
   "metadata": {},
   "outputs": [],
   "source": [
    "chunk_path = '/home/neme/workspace/Data/MIDI/preprocced/Chordomicon/chunk'"
   ]
  },
  {
   "cell_type": "code",
   "execution_count": null,
   "id": "2d83b853",
   "metadata": {},
   "outputs": [
    {
     "ename": "SyntaxError",
     "evalue": "invalid syntax (2928295458.py, line 6)",
     "output_type": "error",
     "traceback": [
      "  \u001b[36mCell\u001b[39m\u001b[36m \u001b[39m\u001b[32mIn[4]\u001b[39m\u001b[32m, line 6\u001b[39m\n\u001b[31m    \u001b[39m\u001b[31m)\u001b[39m\n    ^\n\u001b[31mSyntaxError\u001b[39m\u001b[31m:\u001b[39m invalid syntax\n"
     ]
    }
   ],
   "source": [
    "# concatenar chordonomicon\n",
    "concatenate_parquet_batches(\n",
    "    batch_dir='/home/neme/workspace/Data/MIDI/preprocced/Chordomicon/batch',\n",
    "    output_file='/home/neme/workspace/Data/MIDI/preprocced/Chordomicon/chunk/dataset_chordonomicon_full',\n",
    "    chunk_size=10\n",
    "    )"
   ]
  },
  {
   "cell_type": "code",
   "execution_count": null,
   "id": "3461f45f",
   "metadata": {},
   "outputs": [
    {
     "name": "stdout",
     "output_type": "stream",
     "text": [
      "Encontrados 21 archivos batch\n",
      "5 21\n",
      "Procesando chunk 1/5\n"
     ]
    },
    {
     "name": "stderr",
     "output_type": "stream",
     "text": [
      "Cargando archivos:   0%|          | 0/5 [00:00<?, ?it/s]"
     ]
    },
    {
     "name": "stderr",
     "output_type": "stream",
     "text": [
      "Cargando archivos: 100%|██████████| 5/5 [00:00<00:00,  6.72it/s]\n"
     ]
    },
    {
     "name": "stdout",
     "output_type": "stream",
     "text": [
      "10 21\n",
      "Procesando chunk 2/5\n"
     ]
    },
    {
     "name": "stderr",
     "output_type": "stream",
     "text": [
      "Cargando archivos: 100%|██████████| 5/5 [00:00<00:00, 12.82it/s]\n"
     ]
    },
    {
     "name": "stdout",
     "output_type": "stream",
     "text": [
      "15 21\n",
      "Procesando chunk 3/5\n"
     ]
    },
    {
     "name": "stderr",
     "output_type": "stream",
     "text": [
      "Cargando archivos: 100%|██████████| 5/5 [00:00<00:00, 17.67it/s]\n"
     ]
    },
    {
     "name": "stdout",
     "output_type": "stream",
     "text": [
      "20 21\n",
      "Procesando chunk 4/5\n"
     ]
    },
    {
     "name": "stderr",
     "output_type": "stream",
     "text": [
      "Cargando archivos: 100%|██████████| 5/5 [00:00<00:00, 15.09it/s]\n"
     ]
    },
    {
     "name": "stdout",
     "output_type": "stream",
     "text": [
      "25 21\n",
      "Procesando chunk 5/5\n"
     ]
    },
    {
     "name": "stderr",
     "output_type": "stream",
     "text": [
      "Cargando archivos: 100%|██████████| 1/1 [00:00<00:00, 15.39it/s]\n"
     ]
    },
    {
     "name": "stdout",
     "output_type": "stream",
     "text": [
      "Concatenando chunks finales...\n"
     ]
    },
    {
     "name": "stderr",
     "output_type": "stream",
     "text": [
      "Cargando chunks: 100%|██████████| 5/5 [00:02<00:00,  1.93it/s]\n"
     ]
    },
    {
     "name": "stdout",
     "output_type": "stream",
     "text": [
      "Realizando concatenación final...\n",
      "Dataset final guardado: /home/neme/workspace/Data/MIDI/preprocced/Popular-hook/chunk/dataset_01_full.parquet\n",
      "Forma final: (102299, 12)\n"
     ]
    },
    {
     "data": {
      "text/html": [
       "<div>\n",
       "<style scoped>\n",
       "    .dataframe tbody tr th:only-of-type {\n",
       "        vertical-align: middle;\n",
       "    }\n",
       "\n",
       "    .dataframe tbody tr th {\n",
       "        vertical-align: top;\n",
       "    }\n",
       "\n",
       "    .dataframe thead th {\n",
       "        text-align: right;\n",
       "    }\n",
       "</style>\n",
       "<table border=\"1\" class=\"dataframe\">\n",
       "  <thead>\n",
       "    <tr style=\"text-align: right;\">\n",
       "      <th></th>\n",
       "      <th>piano_rolls</th>\n",
       "      <th>chord_symbols</th>\n",
       "      <th>sequence_length</th>\n",
       "      <th>piano_roll_size</th>\n",
       "      <th>idx</th>\n",
       "      <th>artist</th>\n",
       "      <th>song</th>\n",
       "      <th>section</th>\n",
       "      <th>tonality</th>\n",
       "      <th>genres</th>\n",
       "      <th>path</th>\n",
       "      <th>midi_emotion_predected</th>\n",
       "    </tr>\n",
       "  </thead>\n",
       "  <tbody>\n",
       "    <tr>\n",
       "      <th>0</th>\n",
       "      <td>[0, 0, 0, 0, 0, 0, 0, 0, 0, 0, 0, 0, 0, 0, 0, ...</td>\n",
       "      <td>[\"Dm\", \"F\", \"Bdim\", \"Em\", \"Dm\", \"F\", \"Bdim\", \"...</td>\n",
       "      <td>16</td>\n",
       "      <td>84</td>\n",
       "      <td>1</td>\n",
       "      <td>a-certain-mushroom</td>\n",
       "      <td>imma-write-a-song</td>\n",
       "      <td>instrumental</td>\n",
       "      <td>C Major</td>\n",
       "      <td>['Worship']</td>\n",
       "      <td>/home/neme/workspace/Data/MIDI/preprocced/Popu...</td>\n",
       "      <td>Q2</td>\n",
       "    </tr>\n",
       "    <tr>\n",
       "      <th>1</th>\n",
       "      <td>[0, 0, 0, 0, 0, 0, 0, 0, 0, 0, 0, 0, 0, 0, 0, ...</td>\n",
       "      <td>[\"F\", \"Bdim\", \"Em\", \"Dm\", \"F\", \"Bdim\", \"Em\", \"...</td>\n",
       "      <td>16</td>\n",
       "      <td>84</td>\n",
       "      <td>1</td>\n",
       "      <td>a-certain-mushroom</td>\n",
       "      <td>imma-write-a-song</td>\n",
       "      <td>instrumental</td>\n",
       "      <td>C Major</td>\n",
       "      <td>['Worship']</td>\n",
       "      <td>/home/neme/workspace/Data/MIDI/preprocced/Popu...</td>\n",
       "      <td>Q2</td>\n",
       "    </tr>\n",
       "    <tr>\n",
       "      <th>2</th>\n",
       "      <td>[0, 0, 0, 0, 0, 0, 0, 0, 0, 0, 0, 0, 0, 0, 0, ...</td>\n",
       "      <td>[\"Bdim\", \"Em\", \"Dm\", \"F\", \"Bdim\", \"Em\", \"Dm\", ...</td>\n",
       "      <td>16</td>\n",
       "      <td>84</td>\n",
       "      <td>1</td>\n",
       "      <td>a-certain-mushroom</td>\n",
       "      <td>imma-write-a-song</td>\n",
       "      <td>instrumental</td>\n",
       "      <td>C Major</td>\n",
       "      <td>['Worship']</td>\n",
       "      <td>/home/neme/workspace/Data/MIDI/preprocced/Popu...</td>\n",
       "      <td>Q2</td>\n",
       "    </tr>\n",
       "    <tr>\n",
       "      <th>3</th>\n",
       "      <td>[0, 0, 0, 0, 0, 0, 0, 0, 0, 0, 0, 0, 0, 0, 0, ...</td>\n",
       "      <td>[\"Em\", \"Dm\", \"F\", \"Bdim\", \"Em\", \"Dm\", \"F\", \"Bd...</td>\n",
       "      <td>16</td>\n",
       "      <td>84</td>\n",
       "      <td>1</td>\n",
       "      <td>a-certain-mushroom</td>\n",
       "      <td>imma-write-a-song</td>\n",
       "      <td>instrumental</td>\n",
       "      <td>C Major</td>\n",
       "      <td>['Worship']</td>\n",
       "      <td>/home/neme/workspace/Data/MIDI/preprocced/Popu...</td>\n",
       "      <td>Q2</td>\n",
       "    </tr>\n",
       "    <tr>\n",
       "      <th>4</th>\n",
       "      <td>[0, 0, 0, 0, 0, 0, 0, 0, 0, 0, 0, 0, 0, 0, 0, ...</td>\n",
       "      <td>[\"Dm\", \"F\", \"Bdim\", \"Em\", \"Dm\", \"F\", \"Bdim\", \"...</td>\n",
       "      <td>16</td>\n",
       "      <td>84</td>\n",
       "      <td>1</td>\n",
       "      <td>a-certain-mushroom</td>\n",
       "      <td>imma-write-a-song</td>\n",
       "      <td>instrumental</td>\n",
       "      <td>C Major</td>\n",
       "      <td>['Worship']</td>\n",
       "      <td>/home/neme/workspace/Data/MIDI/preprocced/Popu...</td>\n",
       "      <td>Q2</td>\n",
       "    </tr>\n",
       "    <tr>\n",
       "      <th>...</th>\n",
       "      <td>...</td>\n",
       "      <td>...</td>\n",
       "      <td>...</td>\n",
       "      <td>...</td>\n",
       "      <td>...</td>\n",
       "      <td>...</td>\n",
       "      <td>...</td>\n",
       "      <td>...</td>\n",
       "      <td>...</td>\n",
       "      <td>...</td>\n",
       "      <td>...</td>\n",
       "      <td>...</td>\n",
       "    </tr>\n",
       "    <tr>\n",
       "      <th>102294</th>\n",
       "      <td>[0, 0, 0, 0, 0, 0, 0, 0, 0, 0, 0, 0, 0, 0, 0, ...</td>\n",
       "      <td>[\"CM9\", \"CM9\", \"CM9\", \"Dm9\", \"Dm9\", \"Dm9\", \"Dm...</td>\n",
       "      <td>16</td>\n",
       "      <td>84</td>\n",
       "      <td>16940</td>\n",
       "      <td>kevin-macleod</td>\n",
       "      <td>casa-bossa-nova</td>\n",
       "      <td>verse</td>\n",
       "      <td>C Major</td>\n",
       "      <td>['Latin', 'Soundtrack']</td>\n",
       "      <td>/home/neme/workspace/Data/MIDI/preprocced/Popu...</td>\n",
       "      <td>Q3</td>\n",
       "    </tr>\n",
       "    <tr>\n",
       "      <th>102295</th>\n",
       "      <td>[0, 0, 0, 0, 0, 0, 0, 0, 0, 0, 0, 0, 0, 0, 0, ...</td>\n",
       "      <td>[\"Cm11\", \"E-M9\", \"Dm7\", [\"A\", \"C\", \"E-\", \"G\", ...</td>\n",
       "      <td>16</td>\n",
       "      <td>84</td>\n",
       "      <td>16948</td>\n",
       "      <td>kevin-macleod</td>\n",
       "      <td>chill-wave</td>\n",
       "      <td>verse</td>\n",
       "      <td>C dorian</td>\n",
       "      <td>['Soundtrack']</td>\n",
       "      <td>/home/neme/workspace/Data/MIDI/preprocced/Popu...</td>\n",
       "      <td>Q3</td>\n",
       "    </tr>\n",
       "    <tr>\n",
       "      <th>102296</th>\n",
       "      <td>[0, 0, 0, 0, 0, 0, 0, 0, 0, 0, 0, 0, 0, 0, 0, ...</td>\n",
       "      <td>[\"E-M9\", \"Dm7\", [\"A\", \"C\", \"E-\", \"G\", \"D\", \"F\"...</td>\n",
       "      <td>16</td>\n",
       "      <td>84</td>\n",
       "      <td>16948</td>\n",
       "      <td>kevin-macleod</td>\n",
       "      <td>chill-wave</td>\n",
       "      <td>verse</td>\n",
       "      <td>C dorian</td>\n",
       "      <td>['Soundtrack']</td>\n",
       "      <td>/home/neme/workspace/Data/MIDI/preprocced/Popu...</td>\n",
       "      <td>Q3</td>\n",
       "    </tr>\n",
       "    <tr>\n",
       "      <th>102297</th>\n",
       "      <td>[0, 0, 0, 0, 0, 0, 0, 0, 0, 0, 0, 0, 0, 0, 0, ...</td>\n",
       "      <td>[\"Dm7\", [\"A\", \"C\", \"E-\", \"G\", \"D\", \"F\"], \"Cm11...</td>\n",
       "      <td>16</td>\n",
       "      <td>84</td>\n",
       "      <td>16948</td>\n",
       "      <td>kevin-macleod</td>\n",
       "      <td>chill-wave</td>\n",
       "      <td>verse</td>\n",
       "      <td>C dorian</td>\n",
       "      <td>['Soundtrack']</td>\n",
       "      <td>/home/neme/workspace/Data/MIDI/preprocced/Popu...</td>\n",
       "      <td>Q3</td>\n",
       "    </tr>\n",
       "    <tr>\n",
       "      <th>102298</th>\n",
       "      <td>[0, 0, 0, 0, 0, 0, 0, 0, 0, 0, 0, 0, 0, 0, 0, ...</td>\n",
       "      <td>[\"Cm\", \"FpoweraddG#\", \"Cm\", \"FpoweraddG#\", [\"G...</td>\n",
       "      <td>16</td>\n",
       "      <td>84</td>\n",
       "      <td>16958</td>\n",
       "      <td>kevin-macleod</td>\n",
       "      <td>crisis</td>\n",
       "      <td>verse</td>\n",
       "      <td>C phrygian</td>\n",
       "      <td>['Soundtrack']</td>\n",
       "      <td>/home/neme/workspace/Data/MIDI/preprocced/Popu...</td>\n",
       "      <td>Q3</td>\n",
       "    </tr>\n",
       "  </tbody>\n",
       "</table>\n",
       "<p>102299 rows × 12 columns</p>\n",
       "</div>"
      ],
      "text/plain": [
       "                                              piano_rolls  \\\n",
       "0       [0, 0, 0, 0, 0, 0, 0, 0, 0, 0, 0, 0, 0, 0, 0, ...   \n",
       "1       [0, 0, 0, 0, 0, 0, 0, 0, 0, 0, 0, 0, 0, 0, 0, ...   \n",
       "2       [0, 0, 0, 0, 0, 0, 0, 0, 0, 0, 0, 0, 0, 0, 0, ...   \n",
       "3       [0, 0, 0, 0, 0, 0, 0, 0, 0, 0, 0, 0, 0, 0, 0, ...   \n",
       "4       [0, 0, 0, 0, 0, 0, 0, 0, 0, 0, 0, 0, 0, 0, 0, ...   \n",
       "...                                                   ...   \n",
       "102294  [0, 0, 0, 0, 0, 0, 0, 0, 0, 0, 0, 0, 0, 0, 0, ...   \n",
       "102295  [0, 0, 0, 0, 0, 0, 0, 0, 0, 0, 0, 0, 0, 0, 0, ...   \n",
       "102296  [0, 0, 0, 0, 0, 0, 0, 0, 0, 0, 0, 0, 0, 0, 0, ...   \n",
       "102297  [0, 0, 0, 0, 0, 0, 0, 0, 0, 0, 0, 0, 0, 0, 0, ...   \n",
       "102298  [0, 0, 0, 0, 0, 0, 0, 0, 0, 0, 0, 0, 0, 0, 0, ...   \n",
       "\n",
       "                                            chord_symbols  sequence_length  \\\n",
       "0       [\"Dm\", \"F\", \"Bdim\", \"Em\", \"Dm\", \"F\", \"Bdim\", \"...               16   \n",
       "1       [\"F\", \"Bdim\", \"Em\", \"Dm\", \"F\", \"Bdim\", \"Em\", \"...               16   \n",
       "2       [\"Bdim\", \"Em\", \"Dm\", \"F\", \"Bdim\", \"Em\", \"Dm\", ...               16   \n",
       "3       [\"Em\", \"Dm\", \"F\", \"Bdim\", \"Em\", \"Dm\", \"F\", \"Bd...               16   \n",
       "4       [\"Dm\", \"F\", \"Bdim\", \"Em\", \"Dm\", \"F\", \"Bdim\", \"...               16   \n",
       "...                                                   ...              ...   \n",
       "102294  [\"CM9\", \"CM9\", \"CM9\", \"Dm9\", \"Dm9\", \"Dm9\", \"Dm...               16   \n",
       "102295  [\"Cm11\", \"E-M9\", \"Dm7\", [\"A\", \"C\", \"E-\", \"G\", ...               16   \n",
       "102296  [\"E-M9\", \"Dm7\", [\"A\", \"C\", \"E-\", \"G\", \"D\", \"F\"...               16   \n",
       "102297  [\"Dm7\", [\"A\", \"C\", \"E-\", \"G\", \"D\", \"F\"], \"Cm11...               16   \n",
       "102298  [\"Cm\", \"FpoweraddG#\", \"Cm\", \"FpoweraddG#\", [\"G...               16   \n",
       "\n",
       "        piano_roll_size    idx              artist               song  \\\n",
       "0                    84      1  a-certain-mushroom  imma-write-a-song   \n",
       "1                    84      1  a-certain-mushroom  imma-write-a-song   \n",
       "2                    84      1  a-certain-mushroom  imma-write-a-song   \n",
       "3                    84      1  a-certain-mushroom  imma-write-a-song   \n",
       "4                    84      1  a-certain-mushroom  imma-write-a-song   \n",
       "...                 ...    ...                 ...                ...   \n",
       "102294               84  16940       kevin-macleod    casa-bossa-nova   \n",
       "102295               84  16948       kevin-macleod         chill-wave   \n",
       "102296               84  16948       kevin-macleod         chill-wave   \n",
       "102297               84  16948       kevin-macleod         chill-wave   \n",
       "102298               84  16958       kevin-macleod             crisis   \n",
       "\n",
       "             section    tonality                   genres  \\\n",
       "0       instrumental     C Major              ['Worship']   \n",
       "1       instrumental     C Major              ['Worship']   \n",
       "2       instrumental     C Major              ['Worship']   \n",
       "3       instrumental     C Major              ['Worship']   \n",
       "4       instrumental     C Major              ['Worship']   \n",
       "...              ...         ...                      ...   \n",
       "102294         verse     C Major  ['Latin', 'Soundtrack']   \n",
       "102295         verse    C dorian           ['Soundtrack']   \n",
       "102296         verse    C dorian           ['Soundtrack']   \n",
       "102297         verse    C dorian           ['Soundtrack']   \n",
       "102298         verse  C phrygian           ['Soundtrack']   \n",
       "\n",
       "                                                     path  \\\n",
       "0       /home/neme/workspace/Data/MIDI/preprocced/Popu...   \n",
       "1       /home/neme/workspace/Data/MIDI/preprocced/Popu...   \n",
       "2       /home/neme/workspace/Data/MIDI/preprocced/Popu...   \n",
       "3       /home/neme/workspace/Data/MIDI/preprocced/Popu...   \n",
       "4       /home/neme/workspace/Data/MIDI/preprocced/Popu...   \n",
       "...                                                   ...   \n",
       "102294  /home/neme/workspace/Data/MIDI/preprocced/Popu...   \n",
       "102295  /home/neme/workspace/Data/MIDI/preprocced/Popu...   \n",
       "102296  /home/neme/workspace/Data/MIDI/preprocced/Popu...   \n",
       "102297  /home/neme/workspace/Data/MIDI/preprocced/Popu...   \n",
       "102298  /home/neme/workspace/Data/MIDI/preprocced/Popu...   \n",
       "\n",
       "       midi_emotion_predected  \n",
       "0                          Q2  \n",
       "1                          Q2  \n",
       "2                          Q2  \n",
       "3                          Q2  \n",
       "4                          Q2  \n",
       "...                       ...  \n",
       "102294                     Q3  \n",
       "102295                     Q3  \n",
       "102296                     Q3  \n",
       "102297                     Q3  \n",
       "102298                     Q3  \n",
       "\n",
       "[102299 rows x 12 columns]"
      ]
     },
     "execution_count": 4,
     "metadata": {},
     "output_type": "execute_result"
    }
   ],
   "source": [
    "# concatenar popular-hook\n",
    "concatenate_parquet_batches(\n",
    "    batch_dir   ='/home/neme/workspace/Data/MIDI/preprocced/Popular-hook/batch',\n",
    "    output_file ='/home/neme/workspace/Data/MIDI/preprocced/Popular-hook/chunk/dataset_popular-hook_full',\n",
    "    chunk_size  =5\n",
    "    )"
   ]
  }
 ],
 "metadata": {
  "kernelspec": {
   "display_name": "model-08-nKor3-py3.11",
   "language": "python",
   "name": "python3"
  },
  "language_info": {
   "codemirror_mode": {
    "name": "ipython",
    "version": 3
   },
   "file_extension": ".py",
   "mimetype": "text/x-python",
   "name": "python",
   "nbconvert_exporter": "python",
   "pygments_lexer": "ipython3",
   "version": "3.11.9"
  }
 },
 "nbformat": 4,
 "nbformat_minor": 5
}
