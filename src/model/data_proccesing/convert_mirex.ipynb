{
 "cells": [
  {
   "cell_type": "code",
   "execution_count": 1,
   "metadata": {},
   "outputs": [],
   "source": [
    "import pandas as pd\n",
    "import music21\n",
    "import re\n",
    "import ast"
   ]
  },
  {
   "cell_type": "markdown",
   "metadata": {},
   "source": [
    "## Almacenamos los acordes que reconoce music21 de forma simbolica"
   ]
  },
  {
   "cell_type": "code",
   "execution_count": null,
   "metadata": {},
   "outputs": [],
   "source": [
    "# almacenamos en .csv los tipos de acordes que music21 reconoce\n",
    "\n",
    "chord_types = []\n",
    "chord_data = []\n",
    "    \n",
    "for key in music21.harmony.CHORD_TYPES.keys():\n",
    "    chord_types.append(key)\n",
    "    chord_data.append(music21.harmony.CHORD_TYPES[key])"
   ]
  },
  {
   "cell_type": "code",
   "execution_count": null,
   "metadata": {},
   "outputs": [],
   "source": [
    "chord_notes, chord_symbols = zip(*chord_data)"
   ]
  },
  {
   "cell_type": "code",
   "execution_count": null,
   "metadata": {},
   "outputs": [],
   "source": [
    "chord_symbols"
   ]
  },
  {
   "cell_type": "code",
   "execution_count": null,
   "metadata": {},
   "outputs": [],
   "source": [
    "df_chord_types = pd.DataFrame({'Chord Type': chord_types, 'Chord Notes': chord_notes, 'Chord Symbols': chord_symbols})\n",
    "df_chord_types.to_csv('/mnt/c/Users/nehem/OneDrive - Universidad de Chile/Universidad/6to año/Data/MIDI/preprocced/Chordomicon/chord_types.csv', index=False)"
   ]
  },
  {
   "cell_type": "markdown",
   "metadata": {},
   "source": [
    "## Clear Mapping Pitch Class"
   ]
  },
  {
   "cell_type": "code",
   "execution_count": null,
   "metadata": {},
   "outputs": [],
   "source": [
    "NOTES_AMERICAN = ['C', 'D', 'E', 'F', 'G', 'A', 'B']\n",
    "NOTES_AMERICAN_SHARP = ['Cs', 'Ds', 'Es', 'Fs', 'Gs', 'As', 'Bs']\n",
    "NOTES_AMERICAN_FLAT = ['Cb', 'Db', 'Eb', 'Fb', 'Gb', 'Ab', 'Bb']\n",
    "\n",
    "NOTES_LATIN = ['do', 're', 'mi', 'fa', 'sol', 'la', 'si']\n",
    "NOTES_LATIN_SHARP= ['dos', 'res', 'mis', 'fas', 'sols', 'las', 'sis']\n",
    "NOTES_LATIN_FLAT= ['dob', 'reb', 'mib', 'fab', 'solb', 'lab', 'sib']\n",
    "\n",
    "NOTES = dict(zip(NOTES_LATIN, NOTES_AMERICAN))\n",
    "NOTES_SHARP = dict(zip(NOTES_LATIN_SHARP, NOTES_AMERICAN_SHARP))\n",
    "NOTES_FLAT = dict(zip(NOTES_LATIN_FLAT, NOTES_AMERICAN_FLAT))      "
   ]
  },
  {
   "cell_type": "code",
   "execution_count": null,
   "metadata": {},
   "outputs": [],
   "source": [
    "def extract_chord_symbol(chord, note):\n",
    "    for c in range(len(NOTES_AMERICAN)):                        \n",
    "        if note == NOTES_LATIN[c]:\n",
    "            tonic = NOTES[note]\n",
    "            break\n",
    "        elif note == NOTES_LATIN_SHARP[c]:\n",
    "            tonic = NOTES_SHARP[note]\n",
    "            break\n",
    "        elif note == NOTES_LATIN_FLAT[c]:\n",
    "            tonic = NOTES_FLAT[note]\n",
    "            break        \n",
    "    symbol = chord[len(tonic):]     \n",
    "    return tonic, symbol, chord"
   ]
  },
  {
   "cell_type": "code",
   "execution_count": null,
   "metadata": {},
   "outputs": [],
   "source": [
    "mapping_path = '/mnt/c/Users/nehem/OneDrive - Universidad de Chile/Universidad/6to año/Data/MIDI/preprocced/Chordomicon/chords_mapping.csv' \n",
    "progresions_path = '/mnt/c/Users/nehem/OneDrive - Universidad de Chile/Universidad/6to año/Data/MIDI/preprocced/Chordomicon/chordonomicon_v2.csv'\n",
    "\n",
    "df_mapping = pd.read_csv(mapping_path)\n",
    "df_progresions_meta = pd.read_csv(progresions_path, low_memory=False)\n",
    "\n",
    "\n",
    "df_chords = df_mapping['Chords']\n",
    "df_progresions = df_progresions_meta['chords']\n",
    "\n",
    "df_notes = df_mapping['Notes']\n",
    "df_notes = df_notes.apply(ast.literal_eval)\n",
    "\n",
    "df_degrees = df_mapping['Degrees']\n",
    "df_degrees = df_degrees.apply(ast.literal_eval)"
   ]
  },
  {
   "cell_type": "code",
   "execution_count": null,
   "metadata": {},
   "outputs": [],
   "source": [
    "ALL_NOTES = NOTES_AMERICAN + NOTES_AMERICAN_SHARP + NOTES_AMERICAN_FLAT\n",
    "\n",
    "notes_in = []\n",
    "for n in df_notes:\n",
    "    notes_in.append(n[0])\n",
    "\n",
    "chords_by_tonic = {}\n",
    "symbols_by_tonic = {}\n",
    "degrees_by_tonic = {}\n",
    "notes_by_tonic = {}\n",
    "\n",
    "chord_degrees_by_tonic = {}\n",
    "\n",
    "for NOTE in ALL_NOTES:\n",
    "    \n",
    "    if NOTE != 'C':\n",
    "        break\n",
    "    \n",
    "    chords = []\n",
    "    symbols = []\n",
    "    chords_degrees = []\n",
    "    chords_notes = []\n",
    "    \n",
    "    for chord, degrees, notes, note_in in zip(df_chords, df_degrees, df_notes, notes_in):\n",
    "        \n",
    "        tonic, symbol, _ = extract_chord_symbol(chord, note_in)        \n",
    "        \n",
    "        if tonic == NOTE:\n",
    "            \n",
    "            symbol_space = symbol + \" \"\n",
    "            symbol_inv = symbol + \"/\"\n",
    "            \n",
    "            if any(symbol_space in str(prog) for prog in df_progresions) or any(symbol_inv in str(prog) for prog in df_progresions):         \n",
    "                chords.append(f'\"{chord}\"')\n",
    "                symbols.append(f'\"{symbol}\"')\n",
    "                chords_degrees.append(f'\"{str(degrees)}\"')\n",
    "                chords_notes.append(f'\"{str(notes)}\"')\n",
    "\n",
    "    chords = tuple(chords)\n",
    "    symbols = tuple(symbols)\n",
    "    chord_degrees = tuple(chords_degrees)\n",
    "    chord_notes = tuple(chords_notes)\n",
    "\n",
    "    chord_degrees_by_tonic[NOTE] = (chords, symbols, chord_degrees, chord_notes)\n",
    "\n",
    "print(len(chord_degrees_by_tonic['C'][0]))\n",
    "print(len(chord_degrees_by_tonic['C'][1]))\n",
    "print(len(chord_degrees_by_tonic['C'][2]))\n",
    "print(len(chord_degrees_by_tonic['C'][3]))"
   ]
  },
  {
   "cell_type": "code",
   "execution_count": null,
   "metadata": {},
   "outputs": [],
   "source": [
    "# save only c chords and degrees\n",
    "df_chords_and_grades = pd.DataFrame(chord_degrees_by_tonic['C'][0], columns=['Chords'])\n",
    "df_chords_and_grades['Symbols'] = pd.Series(chord_degrees_by_tonic['C'][1])\n",
    "df_chords_and_grades['Degrees'] = pd.Series(chord_degrees_by_tonic['C'][2])\n",
    "df_chords_and_grades['Notes'] = pd.Series(chord_degrees_by_tonic['C'][3])\n",
    "\n",
    "df_chords_and_grades.to_csv('/mnt/c/Users/nehem/OneDrive - Universidad de Chile/Universidad/6to año/Data/MIDI/preprocced/Chordomicon/Chords_Symbols.csv')"
   ]
  },
  {
   "cell_type": "markdown",
   "metadata": {},
   "source": [
    "## Validar mapeo por grados"
   ]
  },
  {
   "cell_type": "code",
   "execution_count": null,
   "metadata": {},
   "outputs": [],
   "source": [
    "mapping_path = '/mnt/c/Users/nehem/OneDrive - Universidad de Chile/Universidad/6to año/Data/MIDI/preprocced/Chordomicon/ChordSymbol_Mapping_v1_(gpt5).csv'\n",
    "symbols_path = '/mnt/c/Users/nehem/OneDrive - Universidad de Chile/Universidad/6to año/Data/MIDI/preprocced/Chordomicon/Chords_Symbols.csv'\n",
    "\n",
    "df_mapping = pd.read_csv(mapping_path)\n",
    "df_symbols = pd.read_csv(symbols_path)\n",
    "\n",
    "# Filtrar filas\n",
    "df_mapping = df_mapping[df_mapping['Original Symbol'].isin(df_symbols['Symbols'])]"
   ]
  },
  {
   "cell_type": "code",
   "execution_count": null,
   "metadata": {},
   "outputs": [],
   "source": [
    "df_mapping"
   ]
  },
  {
   "cell_type": "code",
   "execution_count": null,
   "metadata": {},
   "outputs": [],
   "source": [
    "df_symbols"
   ]
  },
  {
   "cell_type": "code",
   "execution_count": null,
   "metadata": {},
   "outputs": [],
   "source": [
    "notes = df_mapping['Notes']\n",
    "degrees = df_symbols['Degrees']"
   ]
  },
  {
   "cell_type": "code",
   "execution_count": null,
   "metadata": {},
   "outputs": [],
   "source": [
    "# Convertir Notes a pitch class set --> \"['C', 'E', 'G', 'B-']\" >> \"[1, 0, 0, 0, 1, 0, 0, 1, 0, 0, 1, 0]\"\n",
    "\n",
    "def convert_to_psc(note):    \n",
    "    \n",
    "    pcs = [0]*12    \n",
    "    pitches = music21.chord.Chord(note).pitchClasses \n",
    "    \n",
    "    for p in pitches:\n",
    "        pcs[p] = 1\n",
    "\n",
    "    return f'\"{str(pcs)}\"' \n"
   ]
  },
  {
   "cell_type": "code",
   "execution_count": null,
   "metadata": {},
   "outputs": [],
   "source": [
    "notes_degrees = []\n",
    "for note in notes:\n",
    "    note = note.strip('\"')\n",
    "    note = ast.literal_eval(note)\n",
    "    psc = convert_to_psc(note)\n",
    "    notes_degrees.append(psc)   \n"
   ]
  },
  {
   "cell_type": "code",
   "execution_count": null,
   "metadata": {},
   "outputs": [],
   "source": [
    "type(notes_degrees), type(degrees), type(notes)"
   ]
  },
  {
   "cell_type": "code",
   "execution_count": null,
   "metadata": {},
   "outputs": [],
   "source": [
    "# Comparamos grados de las notas\n",
    "erro_index = []\n",
    "for i in range(len(notes_degrees)):  \n",
    "    if notes_degrees[i] != degrees[i]:        \n",
    "        erro_index.append(i)\n",
    "        print(f\"Error en la fila {i}: {notes_degrees[i]} != {degrees.iloc[i]} --> Acorde {notes.iloc[i]}\")"
   ]
  },
  {
   "cell_type": "code",
   "execution_count": null,
   "metadata": {},
   "outputs": [],
   "source": [
    "for i in erro_index:\n",
    "    print(i)\n",
    "    print(df_mapping['Original Symbol'].iloc[i])\n",
    "    print(df_symbols['Symbols'].iloc[i])\n",
    "    print('---------------------')"
   ]
  },
  {
   "cell_type": "code",
   "execution_count": null,
   "metadata": {},
   "outputs": [],
   "source": [
    "df_mapping = df_mapping.reset_index(drop=True)"
   ]
  },
  {
   "cell_type": "code",
   "execution_count": null,
   "metadata": {},
   "outputs": [],
   "source": [
    "df_mapping.to_csv('/mnt/c/Users/nehem/OneDrive - Universidad de Chile/Universidad/6to año/Data/MIDI/preprocced/Chordomicon/ChordSymbol_Mapping_v2.csv', index=False)"
   ]
  },
  {
   "cell_type": "markdown",
   "metadata": {},
   "source": [
    "## Validar si music21 reconoce"
   ]
  },
  {
   "cell_type": "code",
   "execution_count": null,
   "metadata": {},
   "outputs": [],
   "source": [
    "mapping_chord_symbol_path = \"/mnt/c/Users/nehem/OneDrive - Universidad de Chile/Universidad/6to año/Data/MIDI/preprocced/Chordomicon/ChordSymbol_Mapping_v2_(gpt5).csv\"\n",
    "df_chords = pd.read_csv(mapping_chord_symbol_path)"
   ]
  },
  {
   "cell_type": "code",
   "execution_count": null,
   "metadata": {},
   "outputs": [],
   "source": [
    "df_chords"
   ]
  },
  {
   "cell_type": "code",
   "execution_count": null,
   "metadata": {},
   "outputs": [],
   "source": [
    "# Eliminar corchetes \" \"\n",
    "df_chords_symbol = df_chords[\"ChordSymbol\"].str.replace('\"','')\n",
    "# Eliminar el primer caracter de cada elemento de una columna\n",
    "df_chords_symbol = df_chords_symbol.apply(lambda x: x[1:] if isinstance(x, str) and len(x) > 0 else x)"
   ]
  },
  {
   "cell_type": "code",
   "execution_count": null,
   "metadata": {},
   "outputs": [],
   "source": [
    "chords = \"C\" + df_chords_symbol\n",
    "check = 0\n",
    "\n",
    "chords_m21 = []\n",
    "pitches_m21 = []\n",
    "\n",
    "for c in chords:\n",
    "    try:\n",
    "        chord_m21 = music21.harmony.ChordSymbol(c).figure\n",
    "        pitch_m21 = ([str(p) for p in music21.harmony.ChordSymbol(c).pitches])  \n",
    "        check += 1\n",
    "        # print(f\"Chord: {c}, Chord Symbol: {chord_m21}\")\n",
    "    except Exception as e:\n",
    "        chord_m21 = \"Unknown\"\n",
    "        pitch_m21 = \"Unknown\"\n",
    "        # print(f\"Error processing chord {c}: {e}\")\n",
    "    chords_m21.append(chord_m21)\n",
    "    pitches_m21.append(pitch_m21)\n",
    "    \n",
    "print(f\"Se convirtieron {check} acordes correctamente\")"
   ]
  },
  {
   "cell_type": "code",
   "execution_count": null,
   "metadata": {},
   "outputs": [],
   "source": [
    "df_chords['chords_m21'] = [f'\"{c}\"' for c in chords_m21] \n",
    "df_chords['pitches_m21'] = [f'\"{c}\"' for c in pitches_m21]"
   ]
  },
  {
   "cell_type": "code",
   "execution_count": null,
   "metadata": {},
   "outputs": [],
   "source": [
    "df_chords"
   ]
  },
  {
   "cell_type": "code",
   "execution_count": null,
   "metadata": {},
   "outputs": [],
   "source": [
    "\n",
    "df_chords.to_csv('/mnt/c/Users/nehem/OneDrive - Universidad de Chile/Universidad/6to año/Data/MIDI/preprocced/Chordomicon/ChordSymbol_Mapping_v3_(gpt5).csv', index=False)"
   ]
  },
  {
   "cell_type": "markdown",
   "metadata": {},
   "source": [
    "## Validar reconocimiento por Music21"
   ]
  },
  {
   "cell_type": "code",
   "execution_count": null,
   "metadata": {},
   "outputs": [],
   "source": [
    "mapping_path = '/mnt/c/Users/nehem/OneDrive - Universidad de Chile/Universidad/6to año/Data/MIDI/preprocced/Chordomicon/ChordSymbol_Mapping_v3_(gpt5).csv'\n",
    "df_chords = pd.read_csv(mapping_path)"
   ]
  },
  {
   "cell_type": "code",
   "execution_count": null,
   "metadata": {},
   "outputs": [],
   "source": [
    "df_chords"
   ]
  },
  {
   "cell_type": "code",
   "execution_count": null,
   "metadata": {},
   "outputs": [],
   "source": [
    "# Convertir a listas\n",
    "df_notes_val = df_chords['Notes'].apply(ast.literal_eval)\n",
    "df_notes_test = df_chords['pitches_m21'].apply(ast.literal_eval)"
   ]
  },
  {
   "cell_type": "code",
   "execution_count": null,
   "metadata": {},
   "outputs": [],
   "source": [
    "# Validaremos si music21 reconoció correctamente las notas de cada tipo de acorde\n",
    "erro_count = 0\n",
    "erro = []\n",
    "chord_erro = []\n",
    "\n",
    "for i in range(len(df_notes_val)):\n",
    "    c_val = df_notes_val[i]\n",
    "    c_test = df_notes_test[i]\n",
    "        \n",
    "    # limpiar\n",
    "    c_val = c_val.replace(\"'\", \"\").replace(\"[\", \"\").replace(\"]\", \"\").replace(\" \", \"\")\n",
    "    c_test = c_test.replace(\"'\", \"\").replace(\"[\", \"\").replace(\"]\", \"\").replace(\" \", \"\")\n",
    "    \n",
    "    # eliminar numeros    \n",
    "    c_val = re.sub(r'\\d+', '', c_val).split(\",\")   \n",
    "    c_test = re.sub(r'\\d+', '', c_test).split(\",\")\n",
    "    \n",
    "    # ordenar por alfabeto\n",
    "    c_val.sort()\n",
    "    c_test.sort()    \n",
    "    \n",
    "    for j in range(len(c_val)):\n",
    "        check = 'Correct'\n",
    "        if c_val[j] != c_test[j]:\n",
    "            check = 'Fail'\n",
    "            erro_count+=1\n",
    "            chord_erro.append(df_chords['Original Symbol'][i])\n",
    "            break                        \n",
    "            \n",
    "    erro.append(check)"
   ]
  },
  {
   "cell_type": "code",
   "execution_count": null,
   "metadata": {},
   "outputs": [],
   "source": [
    "erro_count"
   ]
  },
  {
   "cell_type": "code",
   "execution_count": null,
   "metadata": {},
   "outputs": [],
   "source": [
    "# Hacer un solo mapeo de Original Symbol y ChordSymbol\n",
    "df_mirex_mapping = pd.DataFrame({\n",
    "    'Original Symbol': df_chords['Original Symbol'],\n",
    "    'ChordSymbol': df_chords['ChordSymbol'].str.replace('C', '')\n",
    "})\n"
   ]
  },
  {
   "cell_type": "code",
   "execution_count": null,
   "metadata": {},
   "outputs": [],
   "source": [
    "df_mirex_mapping.to_csv('/mnt/c/Users/nehem/OneDrive - Universidad de Chile/Universidad/6to año/Data/MIDI/preprocced/Chordomicon/mirex_mapping.csv', index=False)"
   ]
  },
  {
   "cell_type": "markdown",
   "metadata": {},
   "source": [
    "## Filtrar mapeo por Music21"
   ]
  },
  {
   "cell_type": "code",
   "execution_count": null,
   "metadata": {},
   "outputs": [],
   "source": [
    "mirex_mapping = pd.read_csv('/mnt/c/Users/nehem/OneDrive - Universidad de Chile/Universidad/6to año/Data/MIDI/preprocced/Chordomicon/mirex_mapping.csv')\n",
    "music21_chord_types = pd.read_csv('/mnt/c/Users/nehem/OneDrive - Universidad de Chile/Universidad/6to año/Data/MIDI/preprocced/Chordomicon/chord_types.csv')"
   ]
  },
  {
   "cell_type": "code",
   "execution_count": null,
   "metadata": {},
   "outputs": [],
   "source": [
    "chord_symbol = mirex_mapping['ChordSymbol']\n",
    "\n",
    "chord_types = music21_chord_types['Chord Type']\n",
    "chord_notes = music21_chord_types['Chord Notes']\n",
    "chord_symbols_m21 = music21_chord_types['Chord Symbols']\n"
   ]
  },
  {
   "cell_type": "code",
   "execution_count": null,
   "metadata": {},
   "outputs": [],
   "source": [
    "chord_symbol_ = chord_symbol.str.replace('\"', '').str.replace('b', '-')\n",
    "chord_notes_ = chord_notes.astype(str).str.replace(',', '')"
   ]
  },
  {
   "cell_type": "code",
   "execution_count": null,
   "metadata": {},
   "outputs": [],
   "source": [
    "chord_symbol_ = '1' + chord_symbol_.astype(str)"
   ]
  },
  {
   "cell_type": "code",
   "execution_count": null,
   "metadata": {},
   "outputs": [],
   "source": [
    "chord_couples = []\n",
    "\n",
    "symbol_chord = []\n",
    "type_chord = []\n",
    "\n",
    "for i, chord in enumerate(chord_symbol_):\n",
    "    \n",
    "    chord_couple = None\n",
    "    \n",
    "    for j, chord_21 in enumerate(chord_notes_):\n",
    "\n",
    "        if chord == chord_21:\n",
    "            chord_couple = ([chord,i], [chord_21,j])\n",
    "            chord_couples.append(chord_couple)\n",
    "\n",
    "            symbol_chord.append(chord_symbols_m21[j])\n",
    "            type_chord.append(chord_types[j])\n",
    "            \n",
    "            print(f\"Match found: {chord} == {chord_21}\")\n",
    "\n",
    "    if not chord_couple:\n",
    "        symbol_chord.append(\"Unknown\")\n",
    "        type_chord.append(\"Unknown\")\n",
    "        print(f\"No match for: {chord}\")\n",
    "        \n",
    "print(f\"Total matches found: {len(chord_couples)}\")\n",
    "            "
   ]
  },
  {
   "cell_type": "code",
   "execution_count": null,
   "metadata": {},
   "outputs": [],
   "source": [
    "mirex_mapping['ChordSymbol_m21'] = [f'\"{s}\"' for s in symbol_chord]\n",
    "mirex_mapping['ChordType_m21'] = [f'\"{t}\"' for t in type_chord]"
   ]
  },
  {
   "cell_type": "code",
   "execution_count": null,
   "metadata": {},
   "outputs": [],
   "source": [
    "mirex_mapping.to_csv('/mnt/c/Users/nehem/OneDrive - Universidad de Chile/Universidad/6to año/Data/MIDI/preprocced/Chordomicon/mirex_mapping_v2.csv', index=False)"
   ]
  },
  {
   "cell_type": "markdown",
   "metadata": {},
   "source": [
    "## Recoger progresiones que solo contiene m21 symbols"
   ]
  },
  {
   "cell_type": "code",
   "execution_count": 2,
   "metadata": {},
   "outputs": [],
   "source": [
    "progresions_path = '/mnt/c/Users/nehem/OneDrive - Universidad de Chile/Universidad/6to año/Data/MIDI/preprocced/Chordomicon/chordonomicon_v2.csv'\n",
    "mirex_mapping_path = '/mnt/c/Users/nehem/OneDrive - Universidad de Chile/Universidad/6to año/Data/MIDI/preprocced/Chordomicon/mirex_mapping_v2.csv'\n",
    "\n",
    "df_progresions_meta = pd.read_csv(progresions_path, low_memory=False)\n",
    "df_mirex_mapping = pd.read_csv(mirex_mapping_path)"
   ]
  },
  {
   "cell_type": "code",
   "execution_count": 3,
   "metadata": {},
   "outputs": [],
   "source": [
    "df_progresions = df_progresions_meta['chords']\n",
    "\n",
    "Original_Symbol = df_mirex_mapping['Original Symbol']\n",
    "Chord_Symbol_m21 = df_mirex_mapping['ChordSymbol_m21']"
   ]
  },
  {
   "cell_type": "code",
   "execution_count": 4,
   "metadata": {},
   "outputs": [],
   "source": [
    "Chord_Symbol_m21 = Chord_Symbol_m21.str.replace('\"', '')"
   ]
  },
  {
   "cell_type": "code",
   "execution_count": 5,
   "metadata": {},
   "outputs": [
    {
     "data": {
      "text/plain": [
       "4        majs9\n",
       "5           b9\n",
       "6         b7b9\n",
       "7          7b9\n",
       "10       7sus4\n",
       "11    maj7sus4\n",
       "12        add9\n",
       "13       add11\n",
       "14       add13\n",
       "15         11s\n",
       "16        11b9\n",
       "17    majs911s\n",
       "19     maj911s\n",
       "21       b11b9\n",
       "22        13b9\n",
       "23       1311s\n",
       "24         13b\n",
       "26    maj1311s\n",
       "28       1113b\n",
       "33       minb9\n",
       "34     minadd9\n",
       "35    minadd11\n",
       "36    minadd13\n",
       "41    min1113b\n",
       "45    dimadd11\n",
       "47     dim11b9\n",
       "49     dim13b9\n",
       "Name: Original Symbol, dtype: object"
      ]
     },
     "execution_count": 5,
     "metadata": {},
     "output_type": "execute_result"
    }
   ],
   "source": [
    "indices = Chord_Symbol_m21[Chord_Symbol_m21 == \"Unknown\"].index\n",
    "\n",
    "Original_Symbol = Original_Symbol.str.replace('\"', '')\n",
    "Original_Symbol_unknown = Original_Symbol.loc[indices]\n",
    "Original_Symbol_unknown"
   ]
  },
  {
   "cell_type": "code",
   "execution_count": 6,
   "metadata": {},
   "outputs": [
    {
     "data": {
      "text/plain": [
       "{'1113b',\n",
       " '11b9',\n",
       " '11s',\n",
       " '1311s',\n",
       " '13b',\n",
       " '13b9',\n",
       " '7b9',\n",
       " '7sus4',\n",
       " 'add11',\n",
       " 'add13',\n",
       " 'add9',\n",
       " 'b11b9',\n",
       " 'b7b9',\n",
       " 'b9',\n",
       " 'dim11b9',\n",
       " 'dim13b9',\n",
       " 'dimadd11',\n",
       " 'maj1311s',\n",
       " 'maj7sus4',\n",
       " 'maj911s',\n",
       " 'majs9',\n",
       " 'majs911s',\n",
       " 'min1113b',\n",
       " 'minadd11',\n",
       " 'minadd13',\n",
       " 'minadd9',\n",
       " 'minb9'}"
      ]
     },
     "execution_count": 6,
     "metadata": {},
     "output_type": "execute_result"
    }
   ],
   "source": [
    "acordes_excluir = set([acorde for acorde in Original_Symbol_unknown])\n",
    "acordes_excluir"
   ]
  },
  {
   "cell_type": "code",
   "execution_count": 7,
   "metadata": {},
   "outputs": [],
   "source": [
    "def contiene_acorde_excluir(progresion):\n",
    "    return any(acorde in progresion for acorde in acordes_excluir) # devuelve True si contiene algun acorde a excluir\n",
    "\n",
    "progresions_filtradas = df_progresions[~df_progresions.apply(contiene_acorde_excluir)]"
   ]
  },
  {
   "cell_type": "code",
   "execution_count": 8,
   "metadata": {},
   "outputs": [
    {
     "data": {
      "text/plain": [
       "0         <intro_1> C <verse_1> F C E7 Amin C F C G7 C F...\n",
       "1         <intro_1> E D A/Cs E D A/Cs <verse_1> E D A/Cs...\n",
       "2         <intro_1> Csmin <verse_1> A Csmin A Csmin A Cs...\n",
       "3         <intro_1> D Dmaj7 D Dmaj7 <verse_1> Emin A D G...\n",
       "4         <intro_1> C <verse_1> G C G C <chorus_1> F Dmi...\n",
       "                                ...                        \n",
       "679801    D A D Bmin Amin D G Gmin F Emin A D Bmin Amin ...\n",
       "679802    D G D A G D A D G D A G D A D G D A G D A D G ...\n",
       "679804    E Fs E Fs E Fs E Fs E Fs E Fs B Cs Fs B Cs Fs ...\n",
       "679805    E Csmin Fsmin B E Csmin Fsmin B E Csmin Fsmin ...\n",
       "679806    A B7 E7 A Fs7 A E7 A D A D B7 A B7 E7 A Fs7 A ...\n",
       "Name: chords, Length: 616252, dtype: object"
      ]
     },
     "execution_count": 8,
     "metadata": {},
     "output_type": "execute_result"
    }
   ],
   "source": [
    "progresions_filtradas"
   ]
  },
  {
   "cell_type": "code",
   "execution_count": 9,
   "metadata": {},
   "outputs": [],
   "source": [
    "indices_progresiones = progresions_filtradas.index"
   ]
  },
  {
   "cell_type": "code",
   "execution_count": 10,
   "metadata": {},
   "outputs": [],
   "source": [
    "# Filtrar df_progresions_meta usando los índices de progresions_filtradas\n",
    "df_progresions_meta_filtrado = df_progresions_meta.loc[progresions_filtradas.index]"
   ]
  },
  {
   "cell_type": "code",
   "execution_count": 11,
   "metadata": {},
   "outputs": [],
   "source": [
    "df_progresions_meta_filtrado.to_csv('/mnt/c/Users/nehem/OneDrive - Universidad de Chile/Universidad/6to año/Data/MIDI/preprocced/Chordomicon/chordonomicon_v2_filtrered.csv', index=False)"
   ]
  }
 ],
 "metadata": {
  "kernelspec": {
   "display_name": "model-Sl4fRa-R-py3.11",
   "language": "python",
   "name": "python3"
  },
  "language_info": {
   "codemirror_mode": {
    "name": "ipython",
    "version": 3
   },
   "file_extension": ".py",
   "mimetype": "text/x-python",
   "name": "python",
   "nbconvert_exporter": "python",
   "pygments_lexer": "ipython3",
   "version": "3.11.9"
  }
 },
 "nbformat": 4,
 "nbformat_minor": 2
}
